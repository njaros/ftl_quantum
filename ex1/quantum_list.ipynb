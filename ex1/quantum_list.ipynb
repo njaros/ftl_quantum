{
 "cells": [
  {
   "cell_type": "code",
   "execution_count": 1,
   "id": "05ad9725-6f48-4e4a-a0da-962d2195137e",
   "metadata": {},
   "outputs": [
    {
     "name": "stdout",
     "output_type": "stream",
     "text": [
      "done\n"
     ]
    }
   ],
   "source": [
    "import logging\n",
    "from qiskit_ibm_provider import IBMProvider\n",
    "logging.getLogger('qiskit_ibm_provider').setLevel(logging.WARNING)\n",
    "\n",
    "provider = IBMProvider()\n",
    "backends = provider.backends()\n",
    "sim_servers = []\n",
    "qubits_servers = []\n",
    "for backend in backends:\n",
    "    if backend.simulator == True:\n",
    "        sim_servers.append(backend)\n",
    "    else:\n",
    "        qubits_servers.append(backend)\n",
    "print(\"done\")"
   ]
  },
  {
   "cell_type": "code",
   "execution_count": 4,
   "id": "27c0c209-7526-49de-82a3-edb69c7ab486",
   "metadata": {},
   "outputs": [
    {
     "name": "stdout",
     "output_type": "stream",
     "text": [
      "Simulated quantum computers:\n",
      "         ibmq_qasm_simulator            has 0 current jobs in queue\n",
      "         simulator_extended_stabilizer  has 0 current jobs in queue\n",
      "         simulator_mps                  has 0 current jobs in queue\n",
      "         simulator_statevector          has 0 current jobs in queue\n",
      "         simulator_stabilizer           has 0 current jobs in queue\n",
      "Real quantum computers:\n",
      "         ibm_osaka                      has 127 qubits and 124 current jobs in queues\n",
      "         ibm_brisbane                   has 127 qubits and 422 current jobs in queues\n",
      "         ibm_kyoto                      has 127 qubits and 58 current jobs in queues\n"
     ]
    }
   ],
   "source": [
    "print(\"Simulated quantum computers:\")\n",
    "for sim in sim_servers:\n",
    "    status = sim.status()\n",
    "    print(\"        \",\n",
    "          sim.name.ljust(30),\n",
    "          f\"has {status.pending_jobs} current jobs in queue\")\n",
    "print(\"Real quantum computers:\")\n",
    "for real in qubits_servers:\n",
    "    status = real.status()\n",
    "    print(\"        \",\n",
    "          real.name.ljust(30),\n",
    "          f\"has {real.n_qubits} qubits and {status.pending_jobs} current jobs in queues\")"
   ]
  },
  {
   "cell_type": "code",
   "execution_count": null,
   "id": "155f4db7-27e7-407f-9bc3-596b01f5fb16",
   "metadata": {},
   "outputs": [],
   "source": []
  }
 ],
 "metadata": {
  "kernelspec": {
   "display_name": "Python 3 (ipykernel)",
   "language": "python",
   "name": "python3"
  },
  "language_info": {
   "codemirror_mode": {
    "name": "ipython",
    "version": 3
   },
   "file_extension": ".py",
   "mimetype": "text/x-python",
   "name": "python",
   "nbconvert_exporter": "python",
   "pygments_lexer": "ipython3",
   "version": "3.11.7"
  }
 },
 "nbformat": 4,
 "nbformat_minor": 5
}
